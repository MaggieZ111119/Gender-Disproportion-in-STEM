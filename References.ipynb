{
  "cells": [
    {
      "cell_type": "raw",
      "metadata": {},
      "source": [
        "---\n",
        "title: \"References\"\n",
        "format: html\n",
        "---"
      ],
      "id": "76385e35"
    },
    {
      "cell_type": "markdown",
      "metadata": {},
      "source": [
        "# References\n",
        "\n",
        "Below is the list of all the references used across this site:\n",
        "\n",
        "\n",
        "```{bibliography}\n",
        "references.bib\n",
        "```"
      ],
      "id": "fd2c3551"
    }
  ],
  "metadata": {
    "kernelspec": {
      "display_name": "Python 3",
      "language": "python",
      "name": "python3"
    }
  },
  "nbformat": 4,
  "nbformat_minor": 5
}